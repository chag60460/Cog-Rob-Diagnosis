{
 "cells": [
  {
   "attachments": {},
   "cell_type": "markdown",
   "metadata": {},
   "source": [
    "# Mini Problem Set: Diagnosis\n",
    "## Implicats and Implicants for Constraint Programming (100 points)\n",
    "\n",
    "1. [Introduction](#introduction)\n",
    "2. [Part 1 - Tree method](#part-1)\n",
    "3. [Part 2 - Prime implicate method](#part-2)\n",
    "    1. [Problem 2 - Prune prime implicant children](#problem-2-1)\n",
    "    2. [Problem 1 - Prune minimal conflict children](#problem-2-2)\n",
    "    3. [Problem 3 - Skip satisfiable candidate](#problem-2-3)\n",
    "    4. [Problem 4 - Full algorithm](#problem-2-4)"
   ]
  },
  {
   "cell_type": "markdown",
   "metadata": {},
   "source": [
    "Make sure you load the dependencies below by highlighting the cell below and pressing Shift + Enter."
   ]
  },
  {
   "cell_type": "code",
   "execution_count": null,
   "metadata": {
    "vscode": {
     "languageId": "plaintext"
    }
   },
   "outputs": [],
   "source": [
    "%load_ext autoreload\n",
    "%autoreload 2\n",
    "from propositional_state_logic import *\n",
    "from sat_solver import *\n",
    "from utils import *"
   ]
  },
  {
   "attachments": {},
   "cell_type": "markdown",
   "metadata": {},
   "source": [
    "## Introduction <a id=\"introduction\"/>\n",
    "</a>\n",
    "\n",
    "In this problem set, you'll implement..."
   ]
  },
  {
   "attachments": {},
   "cell_type": "markdown",
   "metadata": {},
   "source": [
    "## Part 1 - Tree method <a id=\"part-1\"/>\n",
    "</a>"
   ]
  },
  {
   "attachments": {},
   "cell_type": "markdown",
   "metadata": {},
   "source": [
    "## Part 2 - Prime implicate method <a id=\"part-2\"/>\n",
    "</a>"
   ]
  },
  {
   "attachments": {},
   "cell_type": "markdown",
   "metadata": {},
   "source": [
    "### Problem 1 - Prune prime implicant children <a id=\"problem-2-1\"/>\n",
    "</a>\n",
    "\n"
   ]
  },
  {
   "cell_type": "code",
   "execution_count": null,
   "metadata": {
    "vscode": {
     "languageId": "plaintext"
    }
   },
   "outputs": [],
   "source": [
    "polycell = Problem()\n",
    "\n",
    "# Variables\n",
    "A1 = polycell.add_variable('A1', type='finite_domain', domain=['G', 'U'], decision_variable=True)\n",
    "A2 = polycell.add_variable('A2', type='finite_domain', domain=['G', 'U'], decision_variable=True)\n",
    "A3 = polycell.add_variable('A3', type='finite_domain', domain=['G', 'U'], decision_variable=True)\n",
    "X1 = polycell.add_variable('X1', type='finite_domain', domain=['G', 'U'], decision_variable=True)\n",
    "X2 = polycell.add_variable('X2', type='finite_domain', domain=['G', 'U'], decision_variable=True)\n",
    "A = polycell.add_variable('A', type='binary')\n",
    "B = polycell.add_variable('B', type='binary')\n",
    "C = polycell.add_variable('C', type='binary')\n",
    "D = polycell.add_variable('D', type='binary')\n",
    "E = polycell.add_variable('E', type='binary')\n",
    "F = polycell.add_variable('F', type='binary')\n",
    "G = polycell.add_variable('G', type='binary')\n",
    "X = polycell.add_variable('X', type='binary')\n",
    "Y = polycell.add_variable('Y', type='binary')\n",
    "Z = polycell.add_variable('Z', type='binary')"
   ]
  },
  {
   "cell_type": "code",
   "execution_count": null,
   "metadata": {
    "vscode": {
     "languageId": "plaintext"
    }
   },
   "outputs": [],
   "source": [
    "polycell.clear_constraints()\n",
    "\n",
    "polycell.add_constraint('(A & C) & ~X => A1 = U')\n",
    "polycell.add_constraint('(B & D) & ~Y => A2 = U')\n",
    "polycell.add_constraint('(C & E) & ~Z => A3 = U')\n",
    "polycell.add_constraint('(X ^ Y) & ~F => X1 = U')\n",
    "polycell.add_constraint('(Y ^ Z) & ~G => X2 = U')\n",
    "\n",
    "polycell.add_constraint('(~A | ~C) & X => A1 = U')\n",
    "polycell.add_constraint('(~B | ~D) & Y => A2 = U')\n",
    "polycell.add_constraint('(~C | ~E) & Z => A3 = U')\n",
    "polycell.add_constraint('(X <=> Y) & F => X1 = U')\n",
    "polycell.add_constraint('(Y <=> Z) & G => X2 = U')\n",
    "\n",
    "display_constraints(polycell)"
   ]
  },
  {
   "cell_type": "code",
   "execution_count": null,
   "metadata": {
    "vscode": {
     "languageId": "plaintext"
    }
   },
   "outputs": [],
   "source": [
    "check_polycell_problem(polycell)\n",
    "test_ok()"
   ]
  },
  {
   "attachments": {},
   "cell_type": "markdown",
   "metadata": {},
   "source": [
    "### Problem 2 - Prune minimal conflict children <a id=\"problem-2-2\"/>\n",
    "</a>\n",
    "\n"
   ]
  },
  {
   "attachments": {},
   "cell_type": "markdown",
   "metadata": {},
   "source": [
    "### Problem 3 - Skip satisfiable candidate <a id=\"problem-2-3\"/>\n",
    "</a>"
   ]
  },
  {
   "attachments": {},
   "cell_type": "markdown",
   "metadata": {},
   "source": [
    "### Problem 4 - Full algorithm <a id=\"problem-2-4\"/>\n",
    "</a>"
   ]
  },
  {
   "cell_type": "markdown",
   "metadata": {},
   "source": []
  }
 ],
 "metadata": {
  "language_info": {
   "name": "python"
  },
  "orig_nbformat": 4
 },
 "nbformat": 4,
 "nbformat_minor": 2
}
