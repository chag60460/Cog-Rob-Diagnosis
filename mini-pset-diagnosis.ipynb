{
 "cells": [
  {
   "attachments": {},
   "cell_type": "markdown",
   "metadata": {},
   "source": [
    "# Mini Problem Set: Diagnosis\n",
    "## Implicats and Implicants for Constraint Programming (100 points)\n",
    "\n",
    "1. [Introduction](#introduction)\n",
    "2. [Part 1 - Tree method](#part-1)\n",
    "3. [Part 2 - Prime implicate method](#part-2)\n",
    "    1. [Problem 2 - Prune prime implicant children](#problem-2-1)\n",
    "    2. [Problem 1 - Prune minimal conflict children](#problem-2-2)\n",
    "    3. [Problem 3 - Skip satisfiable candidate](#problem-2-3)\n",
    "    4. [Problem 4 - Full algorithm](#problem-2-4)"
   ]
  },
  {
   "cell_type": "markdown",
   "metadata": {},
   "source": [
    "Make sure you load the dependencies below by highlighting the cell below and pressing Shift + Enter."
   ]
  },
  {
   "cell_type": "code",
   "execution_count": 8,
   "metadata": {},
   "outputs": [
    {
     "name": "stdout",
     "output_type": "stream",
     "text": [
      "The autoreload extension is already loaded. To reload it, use:\n",
      "  %reload_ext autoreload\n"
     ]
    }
   ],
   "source": [
    "%load_ext autoreload\n",
    "%autoreload 2\n",
    "from propositional_state_logic import *\n",
    "from sat_solver import *\n",
    "from utils import *"
   ]
  },
  {
   "attachments": {},
   "cell_type": "markdown",
   "metadata": {},
   "source": [
    "## Introduction <a id=\"introduction\"/>\n",
    "</a>\n",
    "\n",
    "In this problem set, you'll implement..."
   ]
  },
  {
   "attachments": {},
   "cell_type": "markdown",
   "metadata": {},
   "source": [
    "## Part 1 - Tree method <a id=\"part-1\"/>\n",
    "</a>"
   ]
  },
  {
   "attachments": {},
   "cell_type": "markdown",
   "metadata": {},
   "source": [
    "## Part 2 - Prime implicate method <a id=\"part-2\"/>\n",
    "</a>"
   ]
  },
  {
   "cell_type": "code",
   "execution_count": 9,
   "metadata": {},
   "outputs": [
    {
     "name": "stdout",
     "output_type": "stream",
     "text": [
      "Constraints:\n"
     ]
    },
    {
     "data": {
      "text/latex": [
       "$$(thruster = on) \\wedge (pressure = high) \\Rightarrow (thrustoutput = thrust)$$"
      ],
      "text/plain": [
       "<IPython.core.display.Latex object>"
      ]
     },
     "metadata": {},
     "output_type": "display_data"
    },
    {
     "data": {
      "text/latex": [
       "$$(thruster = on) \\wedge (pressure = low) \\Rightarrow (thrustoutput = nothrust)$$"
      ],
      "text/plain": [
       "<IPython.core.display.Latex object>"
      ]
     },
     "metadata": {},
     "output_type": "display_data"
    },
    {
     "data": {
      "text/latex": [
       "$$(thruster = off) \\Rightarrow (thrustoutput = nothrust)$$"
      ],
      "text/plain": [
       "<IPython.core.display.Latex object>"
      ]
     },
     "metadata": {},
     "output_type": "display_data"
    }
   ],
   "source": [
    "p = Problem()\n",
    "\n",
    "# Define the variables for the mini thruster problem with variables: T1, R1, and P3. Returns a Variable object.\n",
    "# Thrust: T1\n",
    "T1 = p.add_variable('thrustoutput', type='finite_domain', domain=['thrust', 'nothrust'])\n",
    "# Thruster: R1\n",
    "R1 = p.add_variable('thruster', type='finite_domain', domain=['on', 'off'])\n",
    "# Pressure before the thruster: P3\n",
    "P3 = p.add_variable('pressure', type='finite_domain', domain=['high', 'low'])\n",
    "\n",
    "# Add the theory / problem constraints.\n",
    "# The thruster only outputs thrust when it is on and when the input from P3 is high\n",
    "p.add_constraint('thruster=on & pressure=high => thrustoutput=thrust')\n",
    "p.add_constraint('thruster=on & pressure=low => thrustoutput=nothrust')\n",
    "p.add_constraint('thruster=off => thrustoutput=nothrust')\n",
    "\n",
    "# Prints out constraints nicely in LaTeX, so you can check them.\n",
    "display_constraints(p)"
   ]
  },
  {
   "cell_type": "code",
   "execution_count": 10,
   "metadata": {},
   "outputs": [],
   "source": [
    "thruster_model = {\n",
    "    frozenset([T1.get_assignment('thrust')]) : {\n",
    "        frozenset([T1.get_assignment('thrust'), R1.get_assignment('on')]) : {\n",
    "            frozenset([T1.get_assignment('thrust'), R1.get_assignment('on'), P3.get_assignment('high')]) : {},\n",
    "            frozenset([T1.get_assignment('thrust'), R1.get_assignment('on'), P3.get_assignment('low')]) : {},\n",
    "            },\n",
    "        frozenset([T1.get_assignment('thrust'), R1.get_assignment('off')]) : {\n",
    "            frozenset([T1.get_assignment('thrust'), R1.get_assignment('off'), P3.get_assignment('high')]) : {},\n",
    "            frozenset([T1.get_assignment('thrust'), R1.get_assignment('off'), P3.get_assignment('low')]) : {},\n",
    "            },\n",
    "        frozenset([T1.get_assignment('thrust'), P3.get_assignment('high')]) : {},\n",
    "        frozenset([T1.get_assignment('thrust'), P3.get_assignment('low')]) : {},\n",
    "        },\n",
    "    \n",
    "    frozenset([T1.get_assignment('nothrust')]) : {\n",
    "        frozenset([T1.get_assignment('nothrust'), R1.get_assignment('on')]) : {\n",
    "            frozenset([T1.get_assignment('nothrust'), R1.get_assignment('on'), P3.get_assignment('high')]) : {},\n",
    "            frozenset([T1.get_assignment('nothrust'), R1.get_assignment('on'), P3.get_assignment('low')]) : {},\n",
    "            },\n",
    "        frozenset([T1.get_assignment('nothrust'), R1.get_assignment('off')]) : {\n",
    "            frozenset([T1.get_assignment('nothrust'), R1.get_assignment('off'), P3.get_assignment('high')]) : {},\n",
    "            frozenset([T1.get_assignment('nothrust'), R1.get_assignment('off'), P3.get_assignment('low')]) : {},\n",
    "            },\n",
    "        frozenset([T1.get_assignment('nothrust'), P3.get_assignment('high')]) : {},\n",
    "        frozenset([T1.get_assignment('nothrust'), P3.get_assignment('low')]) : {},\n",
    "        },\n",
    "    \n",
    "    frozenset([R1.get_assignment('on')]) : {\n",
    "            frozenset([R1.get_assignment('on'), P3.get_assignment('high')]) : {},\n",
    "            frozenset([R1.get_assignment('on'), P3.get_assignment('low')]) : {},\n",
    "            },\n",
    "        frozenset([R1.get_assignment('off')]) : {\n",
    "            frozenset([R1.get_assignment('off'), P3.get_assignment('high')]) : {},\n",
    "            frozenset([R1.get_assignment('off'), P3.get_assignment('low')]) : {},\n",
    "            },\n",
    "    \n",
    "    frozenset([P3.get_assignment('high')]) : {},\n",
    "    \n",
    "    frozenset([P3.get_assignment('low')]) : {},\n",
    "    }"
   ]
  },
  {
   "attachments": {},
   "cell_type": "markdown",
   "metadata": {},
   "source": [
    "### Problem 1 - Prune prime implicant children <a id=\"problem-2-1\"/>\n",
    "</a>\n",
    "\n"
   ]
  },
  {
   "cell_type": "code",
   "execution_count": 13,
   "metadata": {},
   "outputs": [],
   "source": [
    "sat = SATSolver(p)"
   ]
  },
  {
   "cell_type": "code",
   "execution_count": 11,
   "metadata": {},
   "outputs": [],
   "source": [
    "def is_conflict(sat, candidate):\n",
    "    return not sat.check_consistency(candidate)[0]\n"
   ]
  },
  {
   "cell_type": "code",
   "execution_count": 17,
   "metadata": {},
   "outputs": [
    {
     "data": {
      "text/plain": [
       "True"
      ]
     },
     "execution_count": 17,
     "metadata": {},
     "output_type": "execute_result"
    }
   ],
   "source": [
    "is_conflict(sat, frozenset([T1.get_assignment('thrust'), R1.get_assignment('off')]))"
   ]
  },
  {
   "cell_type": "code",
   "execution_count": 16,
   "metadata": {},
   "outputs": [
    {
     "data": {
      "text/plain": [
       "False"
      ]
     },
     "execution_count": 16,
     "metadata": {},
     "output_type": "execute_result"
    }
   ],
   "source": [
    "is_conflict(sat, frozenset([T1.get_assignment('thrust'), R1.get_assignment('on'), P3.get_assignment('high')]))"
   ]
  },
  {
   "cell_type": "code",
   "execution_count": null,
   "metadata": {},
   "outputs": [],
   "source": [
    "def iterate_tree(tree):\n",
    "    for \n"
   ]
  },
  {
   "cell_type": "code",
   "execution_count": null,
   "metadata": {},
   "outputs": [],
   "source": []
  },
  {
   "cell_type": "code",
   "execution_count": null,
   "metadata": {},
   "outputs": [],
   "source": []
  },
  {
   "cell_type": "code",
   "execution_count": null,
   "metadata": {},
   "outputs": [],
   "source": []
  },
  {
   "cell_type": "code",
   "execution_count": null,
   "metadata": {},
   "outputs": [],
   "source": []
  },
  {
   "cell_type": "code",
   "execution_count": 20,
   "metadata": {},
   "outputs": [],
   "source": [
    "def is_valid(sat, candidate_dict:\n",
    "    if is_conflict(sat, candidate_dict):\n",
    "        return False\n",
    "    elif children == {}:\n",
    "        return True\n",
    "    else:\n",
    "        return sum([is_valid(sat, child) for child in children]) == len([is_valid(child) for child in children])"
   ]
  },
  {
   "cell_type": "code",
   "execution_count": 21,
   "metadata": {},
   "outputs": [
    {
     "ename": "TypeError",
     "evalue": "is_valid() missing 1 required positional argument: 'children'",
     "output_type": "error",
     "traceback": [
      "\u001b[0;31m---------------------------------------------------------------------------\u001b[0m",
      "\u001b[0;31mTypeError\u001b[0m                                 Traceback (most recent call last)",
      "\u001b[1;32m/Users/reginaceballos/Documents/MIT/2023 - Spring/6.8110 - Cognitive Robotics/Advanced Lectures/Cog-Rob-Diagnosis/mini-pset-diagnosis.ipynb Cell 20\u001b[0m in \u001b[0;36m<cell line: 1>\u001b[0;34m()\u001b[0m\n\u001b[0;32m----> <a href='vscode-notebook-cell:/Users/reginaceballos/Documents/MIT/2023%20-%20Spring/6.8110%20-%20Cognitive%20Robotics/Advanced%20Lectures/Cog-Rob-Diagnosis/mini-pset-diagnosis.ipynb#X31sZmlsZQ%3D%3D?line=0'>1</a>\u001b[0m is_valid(sat, \u001b[39mfrozenset\u001b[39;49m([T1\u001b[39m.\u001b[39;49mget_assignment(\u001b[39m'\u001b[39;49m\u001b[39mnothrust\u001b[39;49m\u001b[39m'\u001b[39;49m), R1\u001b[39m.\u001b[39;49mget_assignment(\u001b[39m'\u001b[39;49m\u001b[39mon\u001b[39;49m\u001b[39m'\u001b[39;49m)]),\n\u001b[1;32m      <a href='vscode-notebook-cell:/Users/reginaceballos/Documents/MIT/2023%20-%20Spring/6.8110%20-%20Cognitive%20Robotics/Advanced%20Lectures/Cog-Rob-Diagnosis/mini-pset-diagnosis.ipynb#X31sZmlsZQ%3D%3D?line=1'>2</a>\u001b[0m          [\u001b[39mfrozenset\u001b[39;49m([T1\u001b[39m.\u001b[39;49mget_assignment(\u001b[39m'\u001b[39;49m\u001b[39mnothrust\u001b[39;49m\u001b[39m'\u001b[39;49m), R1\u001b[39m.\u001b[39;49mget_assignment(\u001b[39m'\u001b[39;49m\u001b[39mon\u001b[39;49m\u001b[39m'\u001b[39;49m), P3\u001b[39m.\u001b[39;49mget_assignment(\u001b[39m'\u001b[39;49m\u001b[39mhigh\u001b[39;49m\u001b[39m'\u001b[39;49m)]),\n\u001b[1;32m      <a href='vscode-notebook-cell:/Users/reginaceballos/Documents/MIT/2023%20-%20Spring/6.8110%20-%20Cognitive%20Robotics/Advanced%20Lectures/Cog-Rob-Diagnosis/mini-pset-diagnosis.ipynb#X31sZmlsZQ%3D%3D?line=2'>3</a>\u001b[0m             \u001b[39mfrozenset\u001b[39;49m([T1\u001b[39m.\u001b[39;49mget_assignment(\u001b[39m'\u001b[39;49m\u001b[39mnothrust\u001b[39;49m\u001b[39m'\u001b[39;49m), R1\u001b[39m.\u001b[39;49mget_assignment(\u001b[39m'\u001b[39;49m\u001b[39mon\u001b[39;49m\u001b[39m'\u001b[39;49m), P3\u001b[39m.\u001b[39;49mget_assignment(\u001b[39m'\u001b[39;49m\u001b[39mlow\u001b[39;49m\u001b[39m'\u001b[39;49m)])])\n",
      "\u001b[1;32m/Users/reginaceballos/Documents/MIT/2023 - Spring/6.8110 - Cognitive Robotics/Advanced Lectures/Cog-Rob-Diagnosis/mini-pset-diagnosis.ipynb Cell 20\u001b[0m in \u001b[0;36mis_valid\u001b[0;34m(sat, candidate, children)\u001b[0m\n\u001b[1;32m      <a href='vscode-notebook-cell:/Users/reginaceballos/Documents/MIT/2023%20-%20Spring/6.8110%20-%20Cognitive%20Robotics/Advanced%20Lectures/Cog-Rob-Diagnosis/mini-pset-diagnosis.ipynb#X31sZmlsZQ%3D%3D?line=4'>5</a>\u001b[0m     \u001b[39mreturn\u001b[39;00m \u001b[39mTrue\u001b[39;00m\n\u001b[1;32m      <a href='vscode-notebook-cell:/Users/reginaceballos/Documents/MIT/2023%20-%20Spring/6.8110%20-%20Cognitive%20Robotics/Advanced%20Lectures/Cog-Rob-Diagnosis/mini-pset-diagnosis.ipynb#X31sZmlsZQ%3D%3D?line=5'>6</a>\u001b[0m \u001b[39melse\u001b[39;00m:\n\u001b[0;32m----> <a href='vscode-notebook-cell:/Users/reginaceballos/Documents/MIT/2023%20-%20Spring/6.8110%20-%20Cognitive%20Robotics/Advanced%20Lectures/Cog-Rob-Diagnosis/mini-pset-diagnosis.ipynb#X31sZmlsZQ%3D%3D?line=6'>7</a>\u001b[0m     \u001b[39mreturn\u001b[39;00m \u001b[39msum\u001b[39m([is_valid(sat, child) \u001b[39mfor\u001b[39;00m child \u001b[39min\u001b[39;00m children]) \u001b[39m==\u001b[39m \u001b[39mlen\u001b[39m([is_valid(child) \u001b[39mfor\u001b[39;00m child \u001b[39min\u001b[39;00m children])\n",
      "\u001b[1;32m/Users/reginaceballos/Documents/MIT/2023 - Spring/6.8110 - Cognitive Robotics/Advanced Lectures/Cog-Rob-Diagnosis/mini-pset-diagnosis.ipynb Cell 20\u001b[0m in \u001b[0;36m<listcomp>\u001b[0;34m(.0)\u001b[0m\n\u001b[1;32m      <a href='vscode-notebook-cell:/Users/reginaceballos/Documents/MIT/2023%20-%20Spring/6.8110%20-%20Cognitive%20Robotics/Advanced%20Lectures/Cog-Rob-Diagnosis/mini-pset-diagnosis.ipynb#X31sZmlsZQ%3D%3D?line=4'>5</a>\u001b[0m     \u001b[39mreturn\u001b[39;00m \u001b[39mTrue\u001b[39;00m\n\u001b[1;32m      <a href='vscode-notebook-cell:/Users/reginaceballos/Documents/MIT/2023%20-%20Spring/6.8110%20-%20Cognitive%20Robotics/Advanced%20Lectures/Cog-Rob-Diagnosis/mini-pset-diagnosis.ipynb#X31sZmlsZQ%3D%3D?line=5'>6</a>\u001b[0m \u001b[39melse\u001b[39;00m:\n\u001b[0;32m----> <a href='vscode-notebook-cell:/Users/reginaceballos/Documents/MIT/2023%20-%20Spring/6.8110%20-%20Cognitive%20Robotics/Advanced%20Lectures/Cog-Rob-Diagnosis/mini-pset-diagnosis.ipynb#X31sZmlsZQ%3D%3D?line=6'>7</a>\u001b[0m     \u001b[39mreturn\u001b[39;00m \u001b[39msum\u001b[39m([is_valid(sat, child) \u001b[39mfor\u001b[39;00m child \u001b[39min\u001b[39;00m children]) \u001b[39m==\u001b[39m \u001b[39mlen\u001b[39m([is_valid(child) \u001b[39mfor\u001b[39;00m child \u001b[39min\u001b[39;00m children])\n",
      "\u001b[0;31mTypeError\u001b[0m: is_valid() missing 1 required positional argument: 'children'"
     ]
    }
   ],
   "source": [
    "is_valid(sat, frozenset([T1.get_assignment('nothrust'), R1.get_assignment('on')]),\n",
    "         [frozenset([T1.get_assignment('nothrust'), R1.get_assignment('on'), P3.get_assignment('high')]),\n",
    "            frozenset([T1.get_assignment('nothrust'), R1.get_assignment('on'), P3.get_assignment('low')])])"
   ]
  },
  {
   "cell_type": "code",
   "execution_count": null,
   "metadata": {},
   "outputs": [],
   "source": []
  },
  {
   "cell_type": "code",
   "execution_count": null,
   "metadata": {},
   "outputs": [],
   "source": []
  },
  {
   "cell_type": "code",
   "execution_count": null,
   "metadata": {},
   "outputs": [],
   "source": []
  },
  {
   "cell_type": "code",
   "execution_count": null,
   "metadata": {},
   "outputs": [],
   "source": []
  },
  {
   "attachments": {},
   "cell_type": "markdown",
   "metadata": {},
   "source": [
    "### Problem 2 - Prune minimal conflict children <a id=\"problem-2-2\"/>\n",
    "</a>\n",
    "\n"
   ]
  },
  {
   "attachments": {},
   "cell_type": "markdown",
   "metadata": {},
   "source": [
    "### Problem 3 - Skip satisfiable candidate <a id=\"problem-2-3\"/>\n",
    "</a>"
   ]
  },
  {
   "attachments": {},
   "cell_type": "markdown",
   "metadata": {},
   "source": [
    "### Problem 4 - Full algorithm <a id=\"problem-2-4\"/>\n",
    "</a>"
   ]
  },
  {
   "cell_type": "markdown",
   "metadata": {},
   "source": []
  }
 ],
 "metadata": {
  "kernelspec": {
   "display_name": "basic",
   "language": "python",
   "name": "python3"
  },
  "language_info": {
   "codemirror_mode": {
    "name": "ipython",
    "version": 3
   },
   "file_extension": ".py",
   "mimetype": "text/x-python",
   "name": "python",
   "nbconvert_exporter": "python",
   "pygments_lexer": "ipython3",
   "version": "3.9.12"
  },
  "orig_nbformat": 4
 },
 "nbformat": 4,
 "nbformat_minor": 2
}
